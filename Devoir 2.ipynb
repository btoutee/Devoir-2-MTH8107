{
 "cells": [
  {
   "cell_type": "code",
   "execution_count": null,
   "id": "f336e681",
   "metadata": {},
   "outputs": [],
   "source": [
    "using Plots, LinearAlgebra, MatrixDepot, IterativeSolvers"
   ]
  },
  {
   "cell_type": "markdown",
   "id": "90378d79",
   "metadata": {},
   "source": [
    "# MTH8107 Mathématiques de l'apprentissage Profond : Devoir 2\n",
    "## Bertrand Toutée 1805477 et Victor Gaudreau-Blouin "
   ]
  },
  {
   "cell_type": "markdown",
   "id": "cdaddc98",
   "metadata": {},
   "source": [
    "### Question 1"
   ]
  },
  {
   "cell_type": "markdown",
   "id": "06a2d547",
   "metadata": {},
   "source": [
    "#### a)"
   ]
  },
  {
   "cell_type": "markdown",
   "id": "6af65d73",
   "metadata": {},
   "source": [
    "On commence par construire les matrices du système linéaire voulu :"
   ]
  },
  {
   "cell_type": "code",
   "execution_count": null,
   "id": "2a95aa47",
   "metadata": {},
   "outputs": [],
   "source": [
    "lambda = @. 10 + (1:100)\n",
    "A = triu(rand(100,100),1) + diagm(0=>lambda)\n",
    "b = rand(100)"
   ]
  },
  {
   "cell_type": "code",
   "execution_count": null,
   "id": "10413cbb",
   "metadata": {
    "scrolled": true
   },
   "outputs": [],
   "source": [
    "# On vérifie visuellement que que A est bien triangulaire supérieur 100x100\n",
    "A"
   ]
  },
  {
   "cell_type": "markdown",
   "id": "84c4da09",
   "metadata": {},
   "source": [
    "On génère la base de Krylov jusqu'à  $m=30$"
   ]
  },
  {
   "cell_type": "code",
   "execution_count": null,
   "id": "42dc1573",
   "metadata": {},
   "outputs": [],
   "source": [
    "m = 30\n",
    "ki = zeros(100)\n",
    "Km = zeros(100,30)\n",
    "for i in 1:m\n",
    "    ki = A^(i-1) * b  # comme la première colonne doit être b seul alors on commence l'exposant à 0\n",
    "    Km[:,i] = ki/norm(ki)  # on normalise chaque colonne\n",
    "end"
   ]
  },
  {
   "cell_type": "code",
   "execution_count": null,
   "id": "a56e651c",
   "metadata": {},
   "outputs": [],
   "source": [
    "# On vérifie que Km est bien une matrice nxm\n",
    "Km"
   ]
  },
  {
   "cell_type": "markdown",
   "id": "8f876506",
   "metadata": {},
   "source": [
    "#### b)"
   ]
  },
  {
   "cell_type": "markdown",
   "id": "2b633aa3",
   "metadata": {},
   "source": [
    "L'opérateur \\\\(A,b) va nous donnez le meilleur $\\vec{x}$ selon les moindre carré. Ici notre matrice A est plutôt celle obtenue en multipliant A par la base de Krylov de la taille voulue.\n",
    "On calcule le résidu pour chaque taille de base qu'on utilise et que l'on garde dans un vecteur $res$."
   ]
  },
  {
   "cell_type": "code",
   "execution_count": null,
   "id": "c27a21cd",
   "metadata": {},
   "outputs": [],
   "source": [
    "res = zeros(30)\n",
    "z = zeros(100)\n",
    "for i in 1:m\n",
    "    z = \\(A*Km[:, 1:i],b)\n",
    "    res[i] = norm(b - A*Km[:, 1:i]*z) \n",
    "end"
   ]
  },
  {
   "cell_type": "code",
   "execution_count": null,
   "id": "86920fd7",
   "metadata": {},
   "outputs": [],
   "source": [
    "# On vérifie qu'on a bien un vecteur de taille m\n",
    "res"
   ]
  },
  {
   "cell_type": "code",
   "execution_count": null,
   "id": "d031a462",
   "metadata": {},
   "outputs": [],
   "source": [
    "# On affiche le résidu dans un graphique avec une échelle log\n",
    "plot(1:m, res, title=\"Résidu selon la dimension de la base de Krylov\", minorgrid=true)\n",
    "xlabel!(\"Dimension de la base de Krylov\")\n",
    "plot!(yaxis = (\"Résidu b-Ax\", :log10))"
   ]
  },
  {
   "cell_type": "markdown",
   "id": "247d67da",
   "metadata": {},
   "source": [
    "Comme on s'y attendrait, on voit que plus une utilise une grande base de Krylov, moins l'erreur de notre approximation est élevée. Cette dimminution du résidu est d'ailleurs assez rapide jusqu'à m=17, étant divisé par 100 entre m=3 et m=13.\n",
    "L'amélioration se fait moins marqué par la suite et semblerait peut-être même stagner. On voit donc que faire le calcul complet de dimension 100 n'est pas du tout nécessaire pour une erreur négligeable avec cette méthode."
   ]
  },
  {
   "cell_type": "markdown",
   "id": "25d4b6c9",
   "metadata": {},
   "source": [
    "#### c)"
   ]
  },
  {
   "cell_type": "markdown",
   "id": "418dabef",
   "metadata": {},
   "source": [
    "On calcule à nouveau le résidu selon la dimension de la base, mais cette fois ci en approximant A par la méthode de Arnoldi plutôt que la base de Krylov."
   ]
  },
  {
   "cell_type": "code",
   "execution_count": null,
   "id": "97d5e16b",
   "metadata": {},
   "outputs": [],
   "source": [
    "# La fonction fournie dans l'énoncé\n",
    "function arnoldi(A,u,m)\n",
    "\n",
    "# Application de la méthode d'Arnoldi sur la matrice A de dimensions m x n, qui\n",
    "# forme un sous-espace de dimension m, en partant du vecteur initial u de\n",
    "# dimension n.\n",
    "# Retourne la base orthonormale de dimension m+1 et la matrice de Hessenberg\n",
    "# supérieure H de dimensions (m+1) x m.\n",
    "\n",
    "n = length(u)\n",
    "Q = zeros(n,m+1)\n",
    "H = zeros(m+1,m)\n",
    "Q[:,1] = u/norm(u)\n",
    "for j = 1:m\n",
    "  v = A*Q[:,j]\n",
    "  for i = 1:j\n",
    "    H[i,j] = dot(Q[:,i],v)\n",
    "    v -= H[i,j]*Q[:,i]\n",
    "  end\n",
    "  H[j+1,j] = norm(v)\n",
    "  Q[:,j+1] = v/H[j+1,j]\n",
    "end\n",
    "\n",
    "return Q,H\n",
    "end"
   ]
  },
  {
   "cell_type": "code",
   "execution_count": null,
   "id": "f68aab85",
   "metadata": {},
   "outputs": [],
   "source": [
    "# On obtient les matrices avec m=60\n",
    "m = 60\n",
    "u = rand(100)\n",
    "Q,H = arnoldi(A,u,m)\n",
    "# On obtient notre matrice à utiliser avec notre base \n",
    "A_arnoldi = Q*H*Q[:, 1:m]'"
   ]
  },
  {
   "cell_type": "code",
   "execution_count": null,
   "id": "ec51ef3b",
   "metadata": {},
   "outputs": [],
   "source": [
    "# On calcule le résidu selon les colonnes de la base qu'on utilise\n",
    "res_arnold = zeros(m)\n",
    "z = zeros(100)\n",
    "for i in 1:m\n",
    "    z = \\(A_arnoldi[:, 1:i],b)\n",
    "    res_arnold[i] = norm(b - A_arnoldi[:, 1:i]*z) \n",
    "end"
   ]
  },
  {
   "cell_type": "code",
   "execution_count": null,
   "id": "81855b2b",
   "metadata": {},
   "outputs": [],
   "source": [
    "# On affiche les résultats sur un graphique\n",
    "plot(1:60, res_arnold, minorgrid=true, title=\"Résidu avec la méthode d'Arnoldi\")\n",
    "xlabel!(\"Dimension de la base\")\n",
    "plot!(yaxis = (\"Résidu b-Ax\", :log10))"
   ]
  },
  {
   "cell_type": "markdown",
   "id": "2d5097b8",
   "metadata": {},
   "source": [
    "Comme on s'y attend, le résidu dimminue avec l'augmentation de la taille de notre base. Cependant, le résidu est plus élevé et dimminue plus lentement qu'avec la méthode de la base de Krylov. On retrouve une erreur avec la base de dimension 60 similaire à celle de dimension faible avec la première méthode. "
   ]
  },
  {
   "cell_type": "markdown",
   "id": "a20c7d56",
   "metadata": {},
   "source": [
    "### Question 2"
   ]
  },
  {
   "cell_type": "code",
   "execution_count": null,
   "id": "6ecb5176",
   "metadata": {},
   "outputs": [],
   "source": []
  },
  {
   "cell_type": "code",
   "execution_count": null,
   "id": "91b3dfab",
   "metadata": {},
   "outputs": [],
   "source": []
  },
  {
   "cell_type": "code",
   "execution_count": null,
   "id": "4d3251b3",
   "metadata": {},
   "outputs": [],
   "source": []
  },
  {
   "cell_type": "markdown",
   "id": "a6faa340",
   "metadata": {},
   "source": [
    "### Question 3"
   ]
  }
 ],
 "metadata": {
  "kernelspec": {
   "display_name": "Julia 1.7.1",
   "language": "julia",
   "name": "julia-1.7"
  },
  "language_info": {
   "file_extension": ".jl",
   "mimetype": "application/julia",
   "name": "julia",
   "version": "1.7.1"
  }
 },
 "nbformat": 4,
 "nbformat_minor": 5
}
