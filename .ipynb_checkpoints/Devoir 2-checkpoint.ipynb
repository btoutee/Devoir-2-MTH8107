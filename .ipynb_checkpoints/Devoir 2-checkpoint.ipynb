{
 "cells": [
  {
   "cell_type": "code",
   "execution_count": 2,
   "id": "f336e681",
   "metadata": {},
   "outputs": [],
   "source": [
    "using Plots, LinearAlgebra, MatrixDepot, IterativeSolvers"
   ]
  },
  {
   "cell_type": "markdown",
   "id": "90378d79",
   "metadata": {},
   "source": [
    "# MTH8107 Mathématiques de l'apprentissage Profond : Devoir 2\n",
    "## Bertrand Toutée 1805477 et Victor Gaudreau-Blouin "
   ]
  },
  {
   "cell_type": "markdown",
   "id": "cdaddc98",
   "metadata": {},
   "source": [
    "### Question 1"
   ]
  },
  {
   "cell_type": "code",
   "execution_count": 4,
   "id": "97d5e16b",
   "metadata": {},
   "outputs": [
    {
     "data": {
      "text/plain": [
       "arnoldi (generic function with 1 method)"
      ]
     },
     "execution_count": 4,
     "metadata": {},
     "output_type": "execute_result"
    }
   ],
   "source": [
    "function arnoldi(A,u,m)\n",
    "\n",
    "# Application de la méthode d'Arnoldi sur la matrice A de dimensions m x n, qui\n",
    "# forme un sous-espace de dimension m, en partant du vecteur initial u de\n",
    "# dimension n.\n",
    "# Retourne la base orthonormale de dimension m+1 et la matrice de Hessenberg\n",
    "# supérieure H de dimensions (m+1) x m.\n",
    "\n",
    "n = length(u)\n",
    "Q = zeros(n,m+1)\n",
    "H = zeros(m+1,m)\n",
    "Q[:,1] = u/norm(u)\n",
    "for j = 1:m\n",
    "  v = A*Q[:,j]\n",
    "  for i = 1:j\n",
    "    H[i,j] = dot(Q[:,i],v)\n",
    "    v -= H[i,j]*Q[:,i]\n",
    "  end\n",
    "  H[j+1,j] = norm(v)\n",
    "  Q[:,j+1] = v/H[j+1,j]\n",
    "end\n",
    "\n",
    "return Q,H\n",
    "end"
   ]
  },
  {
   "cell_type": "code",
   "execution_count": null,
   "id": "f68aab85",
   "metadata": {},
   "outputs": [],
   "source": [
    "Q,H = arnoldi(A,u,m)"
   ]
  },
  {
   "cell_type": "code",
   "execution_count": null,
   "id": "81855b2b",
   "metadata": {},
   "outputs": [],
   "source": []
  },
  {
   "cell_type": "markdown",
   "id": "a20c7d56",
   "metadata": {},
   "source": [
    "### Question 2"
   ]
  },
  {
   "cell_type": "code",
   "execution_count": null,
   "id": "6ecb5176",
   "metadata": {},
   "outputs": [],
   "source": []
  },
  {
   "cell_type": "code",
   "execution_count": null,
   "id": "91b3dfab",
   "metadata": {},
   "outputs": [],
   "source": []
  },
  {
   "cell_type": "code",
   "execution_count": null,
   "id": "4d3251b3",
   "metadata": {},
   "outputs": [],
   "source": []
  },
  {
   "cell_type": "markdown",
   "id": "a6faa340",
   "metadata": {},
   "source": [
    "### Question 3"
   ]
  }
 ],
 "metadata": {
  "kernelspec": {
   "display_name": "Julia 1.7.1",
   "language": "julia",
   "name": "julia-1.7"
  },
  "language_info": {
   "file_extension": ".jl",
   "mimetype": "application/julia",
   "name": "julia",
   "version": "1.7.1"
  }
 },
 "nbformat": 4,
 "nbformat_minor": 5
}
